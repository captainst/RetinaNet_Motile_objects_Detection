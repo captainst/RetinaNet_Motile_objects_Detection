{
  "nbformat": 4,
  "nbformat_minor": 0,
  "metadata": {
    "colab": {
      "name": "RetinaNet-training.ipynb",
      "provenance": [],
      "collapsed_sections": [],
      "include_colab_link": true
    },
    "kernelspec": {
      "name": "python3",
      "display_name": "Python 3"
    },
    "accelerator": "GPU"
  },
  "cells": [
    {
      "cell_type": "markdown",
      "metadata": {
        "id": "view-in-github",
        "colab_type": "text"
      },
      "source": [
        "<a href=\"https://colab.research.google.com/github/mr7495/RetinaNet_Motile_objects_Detection/blob/master/RetinaNet_training.ipynb\" target=\"_parent\"><img src=\"https://colab.research.google.com/assets/colab-badge.svg\" alt=\"Open In Colab\"/></a>"
      ]
    },
    {
      "cell_type": "code",
      "metadata": {
        "id": "-fTRjNXa0vGg",
        "colab_type": "code",
        "colab": {}
      },
      "source": [
        "!nvidia-smi #show GPU if one is enabled"
      ],
      "execution_count": 0,
      "outputs": []
    },
    {
      "cell_type": "code",
      "metadata": {
        "id": "wAgWM1SawpDO",
        "colab_type": "code",
        "colab": {}
      },
      "source": [
        "!pip install git+https://github.com/mr7495/RetinaNet_Motile_objects_Detection --upgrade #Install RetinaNet as a library"
      ],
      "execution_count": 0,
      "outputs": []
    },
    {
      "cell_type": "code",
      "metadata": {
        "id": "qqz4jiezix-r",
        "colab_type": "code",
        "colab": {}
      },
      "source": [
        "!git clone https://github.com/mr7495/RetinaNet_Motile_objects_Detection #Clone the data on colab runtime"
      ],
      "execution_count": 0,
      "outputs": []
    },
    {
      "cell_type": "code",
      "metadata": {
        "id": "qJBr_oHfj2Ax",
        "colab_type": "code",
        "colab": {}
      },
      "source": [
        "cd RetinaNet_Motile_objects_Detection"
      ],
      "execution_count": 0,
      "outputs": []
    },
    {
      "cell_type": "code",
      "metadata": {
        "id": "Wa-TRlxPi-Al",
        "colab_type": "code",
        "colab": {}
      },
      "source": [
        "!python setup.py build_ext --inplace"
      ],
      "execution_count": 0,
      "outputs": []
    },
    {
      "cell_type": "code",
      "metadata": {
        "id": "wq8dIaKpNXZu",
        "colab_type": "code",
        "colab": {}
      },
      "source": [
        "cd .."
      ],
      "execution_count": 0,
      "outputs": []
    },
    {
      "cell_type": "code",
      "metadata": {
        "id": "x34d_5gUpazO",
        "colab_type": "code",
        "colab": {}
      },
      "source": [
        "#For the code below:\n",
        "#a sample of annotations and classes csv has been shared on https://github.com/mr7495/RetinaNet_Motile_objects_Detection"
      ],
      "execution_count": 0,
      "outputs": []
    },
    {
      "cell_type": "code",
      "metadata": {
        "id": "ronmXGBk1FxD",
        "colab_type": "code",
        "colab": {}
      },
      "source": [
        "#training\n",
        "! RetinaNet_Motile_objects_Detection/keras_retinanet/bin/train.py  --epoch=1 --step=500 --batch-size=5 --random-transform  csv 'path to annotation csv or other formats' 'path to classes csv' "
      ],
      "execution_count": 0,
      "outputs": []
    }
  ]
}